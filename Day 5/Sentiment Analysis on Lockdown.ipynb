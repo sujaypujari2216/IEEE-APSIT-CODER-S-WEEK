{
 "cells": [
  {
   "cell_type": "markdown",
   "metadata": {},
   "source": [
    "# Sentiment Analysis on \"Lockdown\""
   ]
  },
  {
   "cell_type": "code",
   "execution_count": 1,
   "metadata": {},
   "outputs": [],
   "source": [
    "import re \n",
    "import tweepy \n",
    "from tweepy import OAuthHandler \n",
    "from textblob import TextBlob"
   ]
  },
  {
   "cell_type": "code",
   "execution_count": 2,
   "metadata": {},
   "outputs": [],
   "source": [
    "class TwitterClient(object): \n",
    "    \n",
    "    #Constructor\n",
    "    def __init__(self): \n",
    "        # keys and tokens from the Twitter Dev Console \n",
    "        consumer_key = 'xxxx'\n",
    "        consumer_secret = 'xxxx'\n",
    "        access_token = 'xxxx'\n",
    "        access_token_secret = 'xxxx'\n",
    "  \n",
    "        # authentication \n",
    "        try: \n",
    "            self.auth = OAuthHandler(consumer_key, consumer_secret) \n",
    "            self.auth.set_access_token(access_token, access_token_secret)\n",
    "            self.api = tweepy.API(self.auth) \n",
    "        except: \n",
    "            print(\"Error: Authentication Failed\") \n",
    "  \n",
    "    def clean_tweet(self, tweet): \n",
    "        return ' '.join(re.sub(\"(@[A-Za-z0-9]+)|([^0-9A-Za-z \\t]) |(\\w+:\\/\\/\\S+)\", \" \", tweet).split()) \n",
    "  \n",
    "    def get_tweet_sentiment(self, tweet): \n",
    "    \n",
    "        # creating TextBlob object \n",
    "        analysis = TextBlob(self.clean_tweet(tweet)) \n",
    "        \n",
    "        # sentiment analysis\n",
    "        if analysis.sentiment.polarity > 0: \n",
    "            return 'positive'\n",
    "        elif analysis.sentiment.polarity == 0: \n",
    "            return 'neutral'\n",
    "        else: \n",
    "            return 'negative'\n",
    "  \n",
    "    def get_tweets(self, query, count = 10): \n",
    "\n",
    "        tweets = [] \n",
    "  \n",
    "        try: \n",
    "            # call twitter api to fetch tweets \n",
    "            fetched_tweets = self.api.search(q = query, count = count) \n",
    "  \n",
    "            # parsing tweets one by one \n",
    "            for tweet in fetched_tweets: \n",
    "                # empty dictionary to store required params of a tweet \n",
    "                parsed_tweet = {} \n",
    "  \n",
    "                # saving text of tweet \n",
    "                parsed_tweet['text'] = tweet.text \n",
    "                # saving sentiment of tweet \n",
    "                parsed_tweet['sentiment'] = self.get_tweet_sentiment(tweet.text) \n",
    "  \n",
    "                # appending parsed tweet to tweets list \n",
    "                if tweet.retweet_count > 0: \n",
    "                    # if tweet has retweets, ensure that it is appended only once \n",
    "                    if parsed_tweet not in tweets: \n",
    "                        tweets.append(parsed_tweet) \n",
    "                else: \n",
    "                    tweets.append(parsed_tweet) \n",
    "  \n",
    "            # return parsed tweets \n",
    "            return tweets \n",
    "  \n",
    "        except tweepy.TweepError as e: \n",
    "            # print error (if any) \n",
    "            print(\"Error : \" + str(e))"
   ]
  },
  {
   "cell_type": "code",
   "execution_count": 3,
   "metadata": {},
   "outputs": [
    {
     "name": "stdout",
     "output_type": "stream",
     "text": [
      "Positive tweets percentage: 28.88888888888889 %\n",
      "Negative tweets percentage: 23.333333333333332 %\n",
      "Neutral tweets percentage: 47.77777777777778 % \n",
      "\n",
      "\n",
      "Positive tweets:\n",
      "RT @tedcruz: So, in March, at the start of coronavirus lockdown, I went on Amazon to try to buy toilet paper. I bought the only kind that w…\n",
      "RT @DKShrewsbury: Nearly 10,000 potholes and other road defects have been fixed during lockdown in Shropshire as workers take advantage of…\n",
      "Boris Johnson to fire up UK economy with ‘Great Recovery Bill’ as Britain eases out of lockdown – The Sun https://t.co/PmA8poQeYO\n",
      "RT @TweetXan_: If your first night out after lockdown doesn’t end like this you didn’t do it right https://t.co/GKsbXnGnKL\n",
      "RT @DanielJHannan: You want to argue that the risk of outdoor transmission is tiny? Fine. That non-vulnerable people should be free to take…\n",
      "RT @mharicoxon: Thanks @DaneBaptweets at @covid_comedy son was laughing the most about your \"Like my women like' week 9 lockdown viewpoint\n",
      "RT @gothykendoll: the first guy i see after lockdown is getting the fattest sloppiest snog ever\n",
      "RT @bkerrjung: @MKGenest @Enna41067705 The fastest, most peaceful, most effective response would be a general strike. No working no spendin…\n",
      "RT @scentperfumes: New #competition! \n",
      "\n",
      "If you want to win £50 to spend on whatever you like from our website?! 😍... Then get involved with…\n",
      "RT @samirmir: Prime Minister Imran Khan the pioneer of Smart Lockdown , rest of the world followed . \n",
      "The pride of Pakistan #ImranKhan . #l…\n",
      "\n",
      "\n",
      "Negative tweets:\n",
      "RT @SANEEDSAWALL: @AfricaFactsZone Foreigners are the ones doing crime in South Africa.\n",
      "\n",
      "They even murder the police, they are violent crim…\n",
      "RT @SaltySeaDog7: I accomplished today what I previously thought was impossible. \n",
      "\n",
      "Girl at work, lockdown fanatic, mask and glove wearer, b…\n",
      "RT @SRKUniverse: When you know it's Friday but you can't go out with friends due to lockdown 😶\n",
      "#StayHomeStaySafe #ShahRukhKhan https://t.co…\n",
      "RT @Hells4Heroes: IMO if you're too scared to uphold the law, you are not fit to hold the position.\n",
      "\n",
      "Met feared 'serious disorder' if lockd…\n",
      "RT @DrRobDavidson: The difference between these protests &amp; anti-lockdown protests of weeks past? Previous protests opposed the very measure…\n",
      "RT @ilaiyanambi: From #Demonetization to Lockdown everything announced by Modi is a Failure\n",
      "#LockdownFailed https://t.co/fzl4LJiOIs\n",
      "Is your mum dealing with lockdown by cooking excessively, or are you normal ?\n",
      "RT @RahulGandhi: This is what a failed lockdown looks like. https://t.co/eGXpNL6Zhl\n",
      "RT @Andy_Gez_: @DawnButlerBrent @MetroUK How many of these idiots will hear the words \"I can't breathe\" from friends and family members the…\n",
      "RT @Linda_Mtoba: Just want to take a second to say thank you to all our cooks &amp; chefs that held it down with the recipes during lockdown \n",
      "M…\n"
     ]
    }
   ],
   "source": [
    "def main(): \n",
    "    # creating object of TwitterClient Class \n",
    "    api = TwitterClient() \n",
    "    # calling function to get tweets \n",
    "    tweets = api.get_tweets(query = 'Lockdown', count = 200) \n",
    "  \n",
    "    # picking positive tweets from tweets \n",
    "    ptweets = [tweet for tweet in tweets if tweet['sentiment'] == 'positive'] \n",
    "    # percentage of positive tweets \n",
    "    print(\"Positive tweets percentage: {} %\".format(100*len(ptweets)/len(tweets))) \n",
    "    # picking negative tweets from tweets \n",
    "    ntweets = [tweet for tweet in tweets if tweet['sentiment'] == 'negative'] \n",
    "    # percentage of negative tweets \n",
    "    print(\"Negative tweets percentage: {} %\".format(100*len(ntweets)/len(tweets))) \n",
    "    # percentage of neutral tweets \n",
    "    print(\"Neutral tweets percentage: {} % \".format(100*(len(tweets) -(len( ntweets )+len( ptweets)))/len(tweets))) \n",
    "  \n",
    "    # printing first 5 positive tweets \n",
    "    print(\"\\n\\nPositive tweets:\") \n",
    "    for tweet in ptweets[:10]: \n",
    "        print(tweet['text']) \n",
    "  \n",
    "    # printing first 5 negative tweets \n",
    "    print(\"\\n\\nNegative tweets:\") \n",
    "    for tweet in ntweets[:10]: \n",
    "        print(tweet['text']) \n",
    "  \n",
    "if __name__ == \"__main__\": \n",
    "    main() "
   ]
  },
  {
   "cell_type": "markdown",
   "metadata": {},
   "source": [
    "## References: \n",
    "1. https://www.geeksforgeeks.org/extraction-of-tweets-using-tweepy\n",
    "2. https://youtu.be/1gQ6uG5Ujiw"
   ]
  },
  {
   "cell_type": "markdown",
   "metadata": {},
   "source": [
    "# Done "
   ]
  }
 ],
 "metadata": {
  "kernelspec": {
   "display_name": "Python 3",
   "language": "python",
   "name": "python3"
  },
  "language_info": {
   "codemirror_mode": {
    "name": "ipython",
    "version": 3
   },
   "file_extension": ".py",
   "mimetype": "text/x-python",
   "name": "python",
   "nbconvert_exporter": "python",
   "pygments_lexer": "ipython3",
   "version": "3.7.6"
  }
 },
 "nbformat": 4,
 "nbformat_minor": 4
}
